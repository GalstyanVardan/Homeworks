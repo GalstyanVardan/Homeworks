{
 "cells": [
  {
   "cell_type": "code",
   "execution_count": 21,
   "metadata": {},
   "outputs": [
    {
     "name": "stdout",
     "output_type": "stream",
     "text": [
      "homework from Vardan Galstyan\n"
     ]
    }
   ],
   "source": [
    "print(\"homework from Vardan Galstyan\")"
   ]
  },
  {
   "cell_type": "code",
   "execution_count": 6,
   "metadata": {},
   "outputs": [
    {
     "name": "stdout",
     "output_type": "stream",
     "text": [
      "Cake\n",
      "3\n",
      "['flour', 'butter', 'sugar', 'eggs', 'cocoa powder', 'baking powder']\n"
     ]
    }
   ],
   "source": [
    "projeckt = \"Cake\"\n",
    "difficulty = 3\n",
    "ingredients = [\"flour\", \"butter\", \"sugar\", \"eggs\", \"cocoa powder\", \"baking powder\"]\n",
    "\n",
    "print (projeckt)\n",
    "print(difficulty)\n",
    "print(ingredients)"
   ]
  },
  {
   "cell_type": "code",
   "execution_count": 11,
   "metadata": {},
   "outputs": [
    {
     "data": {
      "text/plain": [
       "False"
      ]
     },
     "execution_count": 11,
     "metadata": {},
     "output_type": "execute_result"
    }
   ],
   "source": [
    "\"apples\" in ingredients\n",
    "\"butter\" in ingredients\n",
    "\"eggs\" or \"margarine\" in ingredients\n",
    "\"eggs\" and \"margarine\" in ingredients\n"
   ]
  },
  {
   "cell_type": "code",
   "execution_count": null,
   "metadata": {},
   "outputs": [],
   "source": [
    "\n"
   ]
  },
  {
   "cell_type": "code",
   "execution_count": 42,
   "metadata": {},
   "outputs": [
    {
     "name": "stdout",
     "output_type": "stream",
     "text": [
      "type of ing1 <class 'int'>\n",
      "type of ing2 <class 'int'>\n",
      "type of ing3 <class 'int'>\n",
      "type of ing4 <class 'int'>\n",
      "type of ing5 <class 'int'>\n",
      "type of ing6 <class 'float'>\n"
     ]
    }
   ],
   "source": [
    "ing1, ing2, ing3, ing4, ing5, ing6=[ 175, 175, 100 , 2, 1 , 0.5 ]\n",
    "print(\"type of ing1\", type(ing1))\n",
    "print(\"type of ing2\", type(ing2))\n",
    "print(\"type of ing3\", type(ing3))\n",
    "print(\"type of ing4\", type(ing4))\n",
    "print(\"type of ing5\", type(ing5))\n",
    "print(\"type of ing6\", type(ing6))"
   ]
  },
  {
   "cell_type": "code",
   "execution_count": 43,
   "metadata": {},
   "outputs": [
    {
     "name": "stdout",
     "output_type": "stream",
     "text": [
      "flour -  175\n",
      "butter -  175\n",
      "sugar -  100 g\n",
      "eggs -  2\n",
      "cocoa powder -  1 ts\n",
      "baking powder -  0.5\n"
     ]
    }
   ],
   "source": [
    "print(\"flour - \", ing1)\n",
    "print(\"butter - \", ing2)\n",
    "print(\"sugar - \", ing3,\"g\")\n",
    "print(\"eggs - \", ing4)\n",
    "print(\"cocoa powder - \", ing5,\"ts\")\n",
    "print(\"baking powder - \", ing6)"
   ]
  },
  {
   "cell_type": "code",
   "execution_count": 44,
   "metadata": {},
   "outputs": [
    {
     "name": "stdout",
     "output_type": "stream",
     "text": [
      "1243.0\n",
      "852\n"
     ]
    }
   ],
   "source": [
    "a = 15\n",
    "b = 8\n",
    "c =2\n",
    "# 5a**2 + a*b + (a%2)- a/5\n",
    "#b**3 +3ab -10c\n",
    "print ((5*a**2)+a*b+(a%2)-(a/5))\n",
    "print ((b**3)+(3*a*b)-(10*c))"
   ]
  },
  {
   "cell_type": "code",
   "execution_count": 20,
   "metadata": {},
   "outputs": [
    {
     "name": "stdout",
     "output_type": "stream",
     "text": [
      "1992-04-18\n"
     ]
    }
   ],
   "source": [
    "import datetime, time, calendar\n",
    "mybday = datetime.date(1992, 4, 18)\n",
    "print(mybday)"
   ]
  },
  {
   "cell_type": "code",
   "execution_count": null,
   "metadata": {},
   "outputs": [],
   "source": []
  },
  {
   "cell_type": "code",
   "execution_count": 46,
   "metadata": {},
   "outputs": [
    {
     "name": "stdout",
     "output_type": "stream",
     "text": [
      "2018-11-19\n",
      "150 days, 0:00:00\n"
     ]
    }
   ],
   "source": [
    "import datetime\n",
    "today = datetime.date.today()\n",
    "nextbd = datetime.date(2019, 4, 18)\n",
    "tillbd = (nextbd-today)\n",
    "print(today)\n",
    "print(tillbd)"
   ]
  },
  {
   "cell_type": "code",
   "execution_count": 47,
   "metadata": {},
   "outputs": [
    {
     "name": "stdout",
     "output_type": "stream",
     "text": [
      "Calendar May 2017\n",
      "      May 2017\n",
      "Mo Tu We Th Fr Sa Su\n",
      " 1  2  3  4  5  6  7\n",
      " 8  9 10 11 12 13 14\n",
      "15 16 17 18 19 20 21\n",
      "22 23 24 25 26 27 28\n",
      "29 30 31\n",
      "\n"
     ]
    }
   ],
   "source": [
    "import calendar\n",
    "cal2017 = calendar.month(2017, 5)\n",
    "print(\"Calendar May 2017\")\n",
    "print(cal2017)"
   ]
  },
  {
   "cell_type": "code",
   "execution_count": 14,
   "metadata": {},
   "outputs": [
    {
     "name": "stdout",
     "output_type": "stream",
     "text": [
      "1 1 0 0\n"
     ]
    }
   ],
   "source": [
    "t1= (3%2)\n",
    "t2= (5%2)\n",
    "t3= (6%2)\n",
    "t4= (8%2)\n",
    "print(t1, t2, t3, t4)\n",
    "\n"
   ]
  },
  {
   "cell_type": "code",
   "execution_count": null,
   "metadata": {},
   "outputs": [],
   "source": [
    "\n"
   ]
  },
  {
   "cell_type": "code",
   "execution_count": null,
   "metadata": {},
   "outputs": [],
   "source": []
  },
  {
   "cell_type": "code",
   "execution_count": null,
   "metadata": {},
   "outputs": [],
   "source": []
  }
 ],
 "metadata": {
  "kernelspec": {
   "display_name": "Python 3",
   "language": "python",
   "name": "python3"
  },
  "language_info": {
   "codemirror_mode": {
    "name": "ipython",
    "version": 3
   },
   "file_extension": ".py",
   "mimetype": "text/x-python",
   "name": "python",
   "nbconvert_exporter": "python",
   "pygments_lexer": "ipython3",
   "version": "3.7.0"
  }
 },
 "nbformat": 4,
 "nbformat_minor": 2
}
